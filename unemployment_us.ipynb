{
 "cells": [
  {
   "attachments": {},
   "cell_type": "markdown",
   "metadata": {},
   "source": [
    "# About\n",
    "\n",
    "## General\n",
    "\n",
    "The model we will develop aims to predict the unemployment rate in future months based on historical unemployment rate data. By leveraging the power of advanced machine learning techniques, the model will be capable of capturing patterns and trends in the data, allowing it to make informed predictions about the state of the economy. The model's predictions can provide valuable insights for policymakers, businesses, and individuals, enabling them to make more informed decisions in response to changes in the job market.\n",
    "\n",
    "## TDA\n",
    "\n",
    "By using the Temporal Decaying Accumulator (TDA) activation function in our model, we aim to emphasize the importance of recent unemployment rate data while diminishing the influence of older data. This approach is particularly well-suited for time-series data, as it allows the model to adapt to changes in the underlying patterns of the data over time. In doing so, the model becomes more robust and better equipped to make accurate predictions in the face of evolving economic conditions."
   ]
  },
  {
   "cell_type": "code",
   "execution_count": 1,
   "metadata": {},
   "outputs": [],
   "source": [
    "import matplotlib.pyplot as plt\n",
    "\n",
    "import torch\n",
    "import torch.nn as nn\n",
    "import torch.optim as optim\n",
    "\n",
    "from tda import tda\n",
    "\n",
    "%matplotlib inline"
   ]
  },
  {
   "attachments": {},
   "cell_type": "markdown",
   "metadata": {},
   "source": [
    "## Dataset\n",
    "\n",
    "Data obtained from [FRED Economic Data](https://fred.stlouisfed.org/series/UNRATE).\n",
    "Downloaded file `UNRATE.csv` must be placed in the `root` of this repository."
   ]
  },
  {
   "cell_type": "code",
   "execution_count": 2,
   "metadata": {},
   "outputs": [
    {
     "name": "stdout",
     "output_type": "stream",
     "text": [
      "(890, 12, 1) (890, 1)\n"
     ]
    }
   ],
   "source": [
    "import pandas as pd\n",
    "import numpy as np\n",
    "from sklearn.preprocessing import MinMaxScaler\n",
    "\n",
    "def load_and_preprocess_data(csv_path, sequence_length=5):\n",
    "    # Load the data\n",
    "    data = pd.read_csv(csv_path)\n",
    "    data['DATE'] = pd.to_datetime(data['DATE'])\n",
    "    \n",
    "    # Prepare input (X) and output (y) arrays\n",
    "    X = data['DATE'].values.reshape(-1, 1)\n",
    "    y = data['UNRATE'].values\n",
    "    \n",
    "    # Scale the input data\n",
    "    scaler = MinMaxScaler()\n",
    "    X = scaler.fit_transform(X)\n",
    "    \n",
    "    # Reshape X to have the shape (num_samples, sequence_length, num_features)\n",
    "    X = np.array([X[i: i + sequence_length] for i in range(len(X) - sequence_length)])\n",
    "    \n",
    "    # Remove the first (sequence_length - 1) samples from y\n",
    "    y = y[sequence_length:, np.newaxis]\n",
    "    \n",
    "    return X, y\n",
    "\n",
    "sequence_length = 12\n",
    "X, y = load_and_preprocess_data('UNRATE.csv', sequence_length=sequence_length)\n",
    "print(X.shape, y.shape)"
   ]
  },
  {
   "cell_type": "code",
   "execution_count": 3,
   "metadata": {},
   "outputs": [],
   "source": [
    "from torch.utils.data import TensorDataset, DataLoader\n",
    "from sklearn.model_selection import train_test_split\n",
    "\n",
    "X_train, X_test, y_train, y_test = train_test_split(X, y, test_size=0.2, random_state=42, shuffle=True)\n",
    "# Create DataLoader instances for train and test sets\n",
    "train_data = TensorDataset(torch.tensor(X_train, dtype=torch.float32), torch.tensor(y_train, dtype=torch.float32))\n",
    "test_data = TensorDataset(torch.tensor(X_test, dtype=torch.float32), torch.tensor(y_test, dtype=torch.float32))\n",
    "\n",
    "train_loader = DataLoader(train_data, batch_size=128, shuffle=True)\n",
    "test_loader = DataLoader(test_data, batch_size=128)"
   ]
  },
  {
   "cell_type": "code",
   "execution_count": 4,
   "metadata": {},
   "outputs": [],
   "source": [
    "def train(model, criterion, optimizer, train_loader, test_loader, num_epochs):\n",
    "    train_losses = []\n",
    "    test_losses = []\n",
    "    for epoch in range(num_epochs):\n",
    "        model.train()\n",
    "        losses = []\n",
    "        for batch_x, batch_y in train_loader:\n",
    "            optimizer.zero_grad()\n",
    "            outputs = model(batch_x)\n",
    "            # print(f'Outputs {outputs} -> y {batch_y}')\n",
    "            loss = criterion(outputs, batch_y)\n",
    "            loss.backward()\n",
    "            torch.nn.utils.clip_grad_norm_(model.parameters(), 1.0)  # Apply gradient clipping\n",
    "            optimizer.step()\n",
    "            losses.append(loss.item())\n",
    "\n",
    "        train_losses.append(np.mean(losses))\n",
    "\n",
    "        # Evaluate the model on the test set\n",
    "        model.eval()\n",
    "        tlosses = []\n",
    "        with torch.no_grad():\n",
    "            for batch_x, batch_y in test_loader:\n",
    "                outputs = model(batch_x)\n",
    "                loss = criterion(outputs, batch_y)\n",
    "                tlosses.append(loss.item())\n",
    "\n",
    "        test_losses.append(np.mean(tlosses))\n",
    "\n",
    "        print(f\"\\r{model.ac}: Epoch [{epoch+1}/{num_epochs}], Test Loss: {np.mean(test_losses):.4f}\", end=\"\")\n",
    "    \n",
    "    print()\n",
    "    return train_losses, test_losses"
   ]
  },
  {
   "cell_type": "code",
   "execution_count": 5,
   "metadata": {},
   "outputs": [],
   "source": [
    "class TDANetwork(nn.Module):\n",
    "    def __init__(self, input_size, hidden_size, output_size, time_window, max_value, scaling_factor, op='mean'):\n",
    "        super(TDANetwork, self).__init__()\n",
    "        self.layer1 = nn.Linear(input_size * time_window, hidden_size)\n",
    "        self.ac = tda.TDAActivation(time_window, max_value, scaling_factor, op=op)\n",
    "        self.layer2 = nn.Linear(hidden_size, output_size)\n",
    "\n",
    "    def forward(self, x):\n",
    "        x = x.view(x.shape[0], -1)  # Flatten the input tensor along the time_window dimension\n",
    "        x = self.layer1(x)\n",
    "        x = x.unsqueeze(-1)  # Add an extra dimension for the time_window\n",
    "        x = self.ac(x)\n",
    "        x = self.layer2(x)\n",
    "        return x"
   ]
  },
  {
   "cell_type": "code",
   "execution_count": 6,
   "metadata": {},
   "outputs": [
    {
     "name": "stdout",
     "output_type": "stream",
     "text": [
      "TDAActivation(): Epoch [1000/1000], Test Loss: 0.6079\n"
     ]
    }
   ],
   "source": [
    "input_size = X.shape[-1]\n",
    "hidden_size = 128\n",
    "output_size = 1\n",
    "time_window = sequence_length\n",
    "max_value = 12.0\n",
    "scaling_factor = 0.19\n",
    "learning_rate = 0.4\n",
    "\n",
    "model = TDANetwork(input_size, hidden_size, output_size, time_window, max_value, scaling_factor, op='sum')\n",
    "criterion = nn.SmoothL1Loss()\n",
    "optimizer = optim.Adam(model.parameters(), lr=learning_rate)  # Use a smaller learning rate\n",
    "\n",
    "num_epochs = 1000\n",
    "tda_loss, tda_test_loss = train(model, criterion, optimizer, train_loader, test_loader, num_epochs)"
   ]
  },
  {
   "cell_type": "code",
   "execution_count": 7,
   "metadata": {},
   "outputs": [
    {
     "data": {
      "image/png": "[encoded data removed]",
      "text/plain": [
       "<Figure size 640x480 with 1 Axes>"
      ]
     },
     "metadata": {},
     "output_type": "display_data"
    }
   ],
   "source": [
    "plt.plot(tda_loss, label='Training loss')\n",
    "plt.plot(tda_test_loss, label='Test loss')\n",
    "plt.legend()\n",
    "plt.show()"
   ]
  }
 ],
 "metadata": {
  "kernelspec": {
   "display_name": "rdl",
   "language": "python",
   "name": "python3"
  },
  "language_info": {
   "codemirror_mode": {
    "name": "ipython",
    "version": 3
   },
   "file_extension": ".py",
   "mimetype": "text/x-python",
   "name": "python",
   "nbconvert_exporter": "python",
   "pygments_lexer": "ipython3",
   "version": "3.9.16"
  },
  "orig_nbformat": 4
 },
 "nbformat": 4,
 "nbformat_minor": 2
}
