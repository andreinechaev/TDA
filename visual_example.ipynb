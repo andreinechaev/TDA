{
 "cells": [
  {
   "cell_type": "code",
   "execution_count": null,
   "metadata": {},
   "outputs": [],
   "source": [
    "import numpy as np\n",
    "import torch\n",
    "import torch.nn as nn\n",
    "import matplotlib.pyplot as plt\n",
    "\n",
    "from tda.activation import TDA"
   ]
  },
  {
   "cell_type": "code",
   "execution_count": null,
   "metadata": {},
   "outputs": [],
   "source": [
    "def generate_sine_wave(num_points, frequency, amplitude, phase):\n",
    "    x = np.linspace(0, 1, num_points)\n",
    "    y = amplitude * np.sin(2 * np.pi * frequency * x + phase)\n",
    "    return y\n",
    "\n",
    "def generate_composite_wave(num_points, frequency1, amplitude1, phase1, frequency2, amplitude2, phase2, noise_std_dev):\n",
    "    x = np.linspace(0, 1, num_points)\n",
    "    y1 = amplitude1 * np.sin(2 * np.pi * frequency1 * x + phase1)\n",
    "    y2 = amplitude2 * np.sin(2 * np.pi * frequency2 * x + phase2)\n",
    "    noise = np.random.normal(0, noise_std_dev, num_points)\n",
    "    return y1 + y2 + noise\n",
    "\n",
    "class SimpleNN(nn.Module):\n",
    "    def __init__(self, time_window, max_value, scaling_factor, op='mean'):\n",
    "        super(SimpleNN, self).__init__()\n",
    "        self.tda_activation = TDA(time_window, max_value, scaling_factor, op=op)\n",
    "\n",
    "    def forward(self, x):\n",
    "        return self.tda_activation(x)"
   ]
  },
  {
   "cell_type": "code",
   "execution_count": null,
   "metadata": {},
   "outputs": [],
   "source": [
    "num_points = 100\n",
    "\n",
    "def plot_output(input_data, wave, time_window=20, max_value=10.0, scaling_factor=1.0, op='mean'):\n",
    "    # Create the neural network with the TDA activation function\n",
    "    model = SimpleNN(time_window, max_value, scaling_factor, op=op)\n",
    "\n",
    "    # Generate output data using a sliding window\n",
    "    output_data = []\n",
    "    for i in range(num_points - time_window + 1):\n",
    "        input_window = input_data[..., i:i+time_window]\n",
    "        output = model(input_window)\n",
    "        output_data.append(output.item())\n",
    "    output_data = np.array(output_data)\n",
    "\n",
    "    # Plot original data and output data\n",
    "    plt.figure(figsize=(10, 5))\n",
    "    plt.subplot(2, 1, 1)\n",
    "    plt.plot(wave, label=\"Input Data (Sine Wave)\")\n",
    "    plt.title(\"Input Data (Sine Wave)\")\n",
    "    plt.legend()\n",
    "\n",
    "    plt.subplot(2, 1, 2)\n",
    "    plt.plot(output_data, label=\"Output Data (TDA Activation)\", color='r', lw=2)\n",
    "    plt.title(\"Output Data (TDA Activation)\")\n",
    "    plt.legend()\n",
    "\n",
    "    plt.tight_layout()\n",
    "    plt.show()"
   ]
  },
  {
   "cell_type": "code",
   "execution_count": null,
   "metadata": {},
   "outputs": [],
   "source": [
    "# Generate sine wave\n",
    "frequency = 5\n",
    "amplitude = 1\n",
    "phase = 0\n",
    "\n",
    "sine_wave = generate_sine_wave(num_points, frequency, amplitude, phase)\n",
    "input_data = torch.tensor(sine_wave, dtype=torch.float32).view(1, 1, -1)\n",
    "\n",
    "plot_output(input_data, sine_wave)"
   ]
  },
  {
   "attachments": {},
   "cell_type": "markdown",
   "metadata": {},
   "source": [
    "## More initeresting example\n",
    "\n",
    "In this example, we generate a composite wave composed of two sine waves with different frequencies (5 Hz and 15 Hz) and add random Gaussian noise. The TDA activation function is applied to this input signal using a sliding window approach. The input composite wave with noise and the output of the TDA activation function, which reveals the time-dependent effect of the TDA activation function on the input signal."
   ]
  },
  {
   "cell_type": "code",
   "execution_count": null,
   "metadata": {},
   "outputs": [],
   "source": [
    "num_points = 100\n",
    "frequency1 = 5\n",
    "amplitude1 = 1\n",
    "phase1 = 0\n",
    "frequency2 = 15\n",
    "amplitude2 = 0.5\n",
    "phase2 = 0\n",
    "noise_std_dev = 0.2\n",
    "time_window = 20\n",
    "max_value = 10.0\n",
    "scaling_factor = 1.0\n",
    "\n",
    "# Generate composite wave\n",
    "composite_wave = generate_composite_wave(num_points, frequency1, amplitude1, phase1, frequency2, amplitude2, phase2, noise_std_dev)\n",
    "input_data = torch.tensor(composite_wave, dtype=torch.float32).view(1, 1, -1)\n",
    "\n",
    "plot_output(input_data, composite_wave, time_window=50, max_value=1.0, scaling_factor=0.03, op='mean')"
   ]
  },
  {
   "cell_type": "code",
   "execution_count": null,
   "metadata": {},
   "outputs": [],
   "source": [
    "# Generate composite wave\n",
    "composite_wave = generate_composite_wave(num_points, frequency1, amplitude1, phase1, frequency2, amplitude2, phase2, noise_std_dev)\n",
    "input_data = torch.tensor(composite_wave, dtype=torch.float32).view(1, 1, -1)\n",
    "\n",
    "plot_output(input_data, composite_wave, op='sum')"
   ]
  },
  {
   "cell_type": "code",
   "execution_count": null,
   "metadata": {},
   "outputs": [],
   "source": [
    "from tda.nn import TDA as TDALayer\n",
    "\n",
    "class TdaNN(nn.Module):\n",
    "\n",
    "    def __init__(self, time_window, scaling_factor):\n",
    "        super(TdaNN, self).__init__()\n",
    "        self.tda = TDALayer(time_window, scaling_factor)\n",
    "\n",
    "    def forward(self, x):\n",
    "        return self.tda(x)\n",
    "    \n",
    "input_data = torch.tensor(composite_wave, dtype=torch.float32).view(1, 1, -1)\n",
    "\n",
    "# Create the neural network with the TDA activation function\n",
    "model = TdaNN(time_window, scaling_factor)\n",
    "\n",
    "# Generate output data using a sliding window\n",
    "output_data = []\n",
    "for i in range(num_points - time_window + 1):\n",
    "    input_window = input_data[..., i:i+time_window]\n",
    "    output = model(input_window)\n",
    "    output_data.append(output.sum(dim=2))"
   ]
  },
  {
   "cell_type": "code",
   "execution_count": null,
   "metadata": {},
   "outputs": [],
   "source": [
    "plt.figure(figsize=(10, 5))\n",
    "plt.subplot(2, 1, 1)\n",
    "plt.title(\"Input vs Output Data\")\n",
    "plt.plot(composite_wave, label=\"Input Data (Sine Wave)\")\n",
    "plt.plot([d[0][0].item() for d in output_data], label=\"Output Data (TDA)\", color='r')\n",
    "plt.plot([torch.clamp(d, min=-0.5, max=0.5).item() for d in output_data], label=\"Clamped TDA\", color='g')\n",
    "plt.legend()\n",
    "plt.show()\n",
    "\n"
   ]
  }
 ],
 "metadata": {
  "kernelspec": {
   "display_name": "rdl",
   "language": "python",
   "name": "python3"
  },
  "language_info": {
   "codemirror_mode": {
    "name": "ipython",
    "version": 3
   },
   "file_extension": ".py",
   "mimetype": "text/x-python",
   "name": "python",
   "nbconvert_exporter": "python",
   "pygments_lexer": "ipython3",
   "version": "3.9.16"
  },
  "orig_nbformat": 4
 },
 "nbformat": 4,
 "nbformat_minor": 2
}
