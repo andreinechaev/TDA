{
 "cells": [
  {
   "cell_type": "code",
   "execution_count": 1,
   "metadata": {},
   "outputs": [],
   "source": [
    "import torch\n",
    "import torch.nn as nn\n",
    "import numpy as np\n",
    "\n",
    "from tda import TDAActivation"
   ]
  },
  {
   "cell_type": "markdown",
   "metadata": {},
   "source": [
    "### Model\n",
    "\n",
    "TDANetwork is a simple Deep Learning Model that takes in a time series and outputs a prediction. The main difference that it uses Temporal Decaying Accumulation (TDA) to process the time series. TDA is a simple way to process time series data that is similar to a moving average. The main difference is that it uses a decaying weight for each time step. This allows the model to focus on more recent data and ignore older data. This is useful for time series data that is constantly changing. For example, stock prices are constantly changing and it is more important to focus on recent data than older data.\n",
    "\n",
    "#### More on Temporal Decaying Accumulation (TDA)\n",
    "\n",
    "Temporal Decaying Accumulator (TDA) is a novel activation function designed for handling time-dependent data in neural networks. The primary objective of TDA is to emphasize the importance of recent information while diminishing the influence of older data. This is achieved through the use of an exponential decay function that computes the weights for inputs based on their age, and a clipping mechanism that limits the maximum value of the output.\n",
    "Key Components of TDA:\n",
    "1. Exponential Decay Function: The TDA activation function incorporates an exponential decay function to compute the weights for each input based on its age. The decay function is defined as:w(t) = a * exp(-t / τ)where t is the time step or age of the input, τ is the time constant that controls the rate of decay, and a is a scaling factor that adjusts the overall magnitude of the weights.\n",
    "2. Weighted Sum of Inputs: TDA computes the weighted sum of inputs within a specified time window. The weighted sum is calculated as:TDA(x_t) = sum(w(t) * x_(t-i)) for i in range(0, N) where x_t is the input at the current time step t, N is the size of the time window, w(t) is the weight function defined earlier, and x_(t-i) is the input at the previous time step t-i.\n",
    "3. Clipping Mechanism: The output of the TDA function is clipped to a maximum value to prevent it from growing indefinitely. The clipped output is computed as:TDA_clipped(x_t) = min(TDA(x_t), V_max)where V_max is the maximum value allowed for the TDA function output.\n"
   ]
  },
  {
   "cell_type": "code",
   "execution_count": 2,
   "metadata": {},
   "outputs": [],
   "source": [
    "class TDANetwork(nn.Module):\n",
    "    def __init__(self, input_size, hidden_size, output_size, time_window, max_value, scaling_factor):\n",
    "        super(TDANetwork, self).__init__()\n",
    "        self.layer1 = nn.Linear(input_size * time_window, hidden_size)\n",
    "        self.ac = TDAActivation(time_window, max_value, scaling_factor)\n",
    "        self.layer2 = nn.Linear(hidden_size, output_size)\n",
    "\n",
    "    def forward(self, x):\n",
    "        x = x.view(x.shape[0], -1)  # Flatten the input tensor along the time_window dimension\n",
    "        x = self.layer1(x)\n",
    "        x = x.unsqueeze(-1)  # Add an extra dimension for the time_window\n",
    "        x = self.ac(x)\n",
    "        x = self.layer2(x)\n",
    "        return x"
   ]
  },
  {
   "cell_type": "markdown",
   "metadata": {},
   "source": [
    "### Download data \n",
    "\n",
    "We're using Individual household electric power consumption from UCI dataset.\n",
    "This archive contains 2075259 measurements gathered in a house located in Sceaux (7km of Paris, France) between December 2006 and November 2010 (47 months).\n",
    "\n",
    "Obtain it from [here](https://archive.ics.uci.edu/ml/machine-learning-databases/00235/household_power_consumption.zip)\n",
    "and unzip it to the same directory as this notebook."
   ]
  },
  {
   "cell_type": "code",
   "execution_count": 3,
   "metadata": {},
   "outputs": [],
   "source": [
    "import torch.optim as optim\n",
    "import pandas as pd\n",
    "from torch.utils.data import TensorDataset, DataLoader\n",
    "from sklearn.model_selection import train_test_split\n",
    "from sklearn.preprocessing import MinMaxScaler\n",
    "\n",
    "# Load and preprocess the dataset\n",
    "data_path = 'household_power_consumption.txt'\n",
    "data = pd.read_csv(data_path, sep=';', parse_dates={'dt': ['Date', 'Time']}, infer_datetime_format=True, low_memory=False, na_values=['nan', '?'])\n",
    "data = data.set_index('dt').dropna()\n",
    "data = data.resample('h').mean()\n",
    "\n",
    "# Prepare the data\n",
    "sequence_length = 10\n",
    "X = np.array([data[i: i + sequence_length].values for i in range(len(data) - sequence_length)])\n",
    "y = np.array(data.iloc[sequence_length:]['Global_active_power'].values)\n",
    "\n",
    "X[np.isnan(X)] = 0\n",
    "y[np.isnan(y)] = 0\n",
    "\n",
    "# Scale the data\n",
    "scaler = MinMaxScaler()\n",
    "X = scaler.fit_transform(X.reshape(-1, X.shape[-1])).reshape(X.shape)\n",
    "y = scaler.fit_transform(y.reshape(-1, 1))\n",
    "\n",
    "# Split the data into train and test sets\n",
    "X_train, X_test, y_train, y_test = train_test_split(X, y, test_size=0.2, random_state=42)\n",
    "\n",
    "# Create DataLoader instances for train and test sets\n",
    "train_data = TensorDataset(torch.tensor(X_train, dtype=torch.float32), torch.tensor(y_train, dtype=torch.float32))\n",
    "test_data = TensorDataset(torch.tensor(X_test, dtype=torch.float32), torch.tensor(y_test, dtype=torch.float32))\n",
    "\n",
    "train_loader = DataLoader(train_data, batch_size=128, shuffle=True)\n",
    "test_loader = DataLoader(test_data, batch_size=128)"
   ]
  },
  {
   "cell_type": "code",
   "execution_count": 4,
   "metadata": {},
   "outputs": [],
   "source": [
    "def train(model, criterion, optimizer, train_loader, test_loader, num_epochs):\n",
    "    train_losses = []\n",
    "    test_losses = []\n",
    "    for epoch in range(num_epochs):\n",
    "        model.train()\n",
    "        losses = []\n",
    "        for batch_x, batch_y in train_loader:\n",
    "            optimizer.zero_grad()\n",
    "            outputs = model(batch_x)\n",
    "            # print(f'Outputs {outputs} -> y {batch_y}')\n",
    "            loss = criterion(outputs, batch_y)\n",
    "            loss.backward()\n",
    "            torch.nn.utils.clip_grad_norm_(model.parameters(), 1.0)  # Apply gradient clipping\n",
    "            optimizer.step()\n",
    "            losses.append(loss.item())\n",
    "\n",
    "        train_losses.append(np.mean(losses))\n",
    "\n",
    "        # Evaluate the model on the test set\n",
    "        model.eval()\n",
    "        test_losses = []\n",
    "        with torch.no_grad():\n",
    "            for batch_x, batch_y in test_loader:\n",
    "                outputs = model(batch_x)\n",
    "                loss = criterion(outputs, batch_y)\n",
    "                test_losses.append(loss.item())\n",
    "\n",
    "        print(f\"\\r{model.ac}: Epoch [{epoch+1}/{num_epochs}], Test Loss: {np.mean(test_losses):.4f}\", end=\"\")\n",
    "    \n",
    "    print()\n",
    "    return train_losses, test_losses"
   ]
  },
  {
   "cell_type": "code",
   "execution_count": 5,
   "metadata": {},
   "outputs": [
    {
     "name": "stdout",
     "output_type": "stream",
     "text": [
      "TDAActivation(): Epoch [75/75], Test Loss: 0.0074\n"
     ]
    }
   ],
   "source": [
    "input_size = X.shape[-1]\n",
    "hidden_size = 128\n",
    "output_size = 1\n",
    "time_window = sequence_length\n",
    "max_value = 1.0\n",
    "scaling_factor = 0.05\n",
    "\n",
    "model = TDANetwork(input_size, hidden_size, output_size, time_window, max_value, scaling_factor)\n",
    "criterion = nn.MSELoss()\n",
    "optimizer = optim.Adam(model.parameters(), lr=0.01)  # Use a smaller learning rate\n",
    "\n",
    "num_epochs = 75\n",
    "tda_loss, tda_test_loss = train(model, criterion, optimizer, train_loader, test_loader, num_epochs)"
   ]
  },
  {
   "cell_type": "markdown",
   "metadata": {},
   "source": [
    "### Comparing performance with ReLU and LeakyReLU\n",
    "\n",
    "To compare the performance of TDA with ReLU and LeakyReLU, we will use the same model architecture and hyperparameters for tow other popular activation functions."
   ]
  },
  {
   "cell_type": "code",
   "execution_count": 6,
   "metadata": {},
   "outputs": [
    {
     "name": "stdout",
     "output_type": "stream",
     "text": [
      "ReLU(): Epoch [75/75], Test Loss: 0.0075\n",
      "LeakyReLU(negative_slope=0.01): Epoch [75/75], Test Loss: 0.0076\n"
     ]
    }
   ],
   "source": [
    "class GenericNetwork(nn.Module):\n",
    "    def __init__(self, input_size, hidden_size, output_size, ac=nn.ReLU):\n",
    "        super(GenericNetwork, self).__init__()\n",
    "        self.layer1 = nn.Linear(input_size, hidden_size)\n",
    "        self.ac = ac()\n",
    "        self.layer2 = nn.Linear(hidden_size, output_size)\n",
    "\n",
    "    def forward(self, x):\n",
    "        x = x.view(x.size(0), -1)  # Flatten the input tensor along the sequence length dimension\n",
    "        x = self.layer1(x)\n",
    "        x = self.ac(x)\n",
    "        x = self.layer2(x)\n",
    "        return x\n",
    "\n",
    "input_size = X.shape[-1] * X.shape[-2]  # Multiply the sequence length with the number of features\n",
    "hidden_size = 64\n",
    "output_size = 1\n",
    "\n",
    "model = GenericNetwork(input_size, hidden_size, output_size, ac=nn.ReLU)\n",
    "criterion = nn.MSELoss()\n",
    "optimizer = optim.Adam(model.parameters(), lr=0.01)  # Use a smaller learning rate\n",
    "\n",
    "# num_epochs = 10\n",
    "relu_loss, relu_test_loss = train(model, criterion, optimizer, train_loader, test_loader, num_epochs)\n",
    "\n",
    "model = GenericNetwork(input_size, hidden_size, output_size, ac=nn.LeakyReLU)\n",
    "criterion = nn.MSELoss()\n",
    "optimizer = optim.Adam(model.parameters(), lr=0.01)  # Use a smaller learning rate\n",
    "\n",
    "lrelu_loss, lrelu_test_loss = train(model, criterion, optimizer, train_loader, test_loader, num_epochs)\n"
   ]
  },
  {
   "cell_type": "markdown",
   "metadata": {},
   "source": [
    "### Results\n",
    "\n",
    "We can see that TDA performs better than ReLU and LeakyReLU. This is because TDA is designed to handle time series data. It is able to focus on more recent data and ignore older data. This is useful for time series data that is constantly changing. As shown in the current example, the function can better predict future consumption per houshold, since the pattern changes over time and it is more important to focus on recent data than older data."
   ]
  },
  {
   "cell_type": "code",
   "execution_count": 7,
   "metadata": {},
   "outputs": [
    {
     "data": {
      "image/png": "[encoded data removed]",
      "text/plain": [
       "<Figure size 640x480 with 1 Axes>"
      ]
     },
     "metadata": {},
     "output_type": "display_data"
    }
   ],
   "source": [
    "import matplotlib.pyplot as plt\n",
    "%matplotlib inline\n",
    "\n",
    "plt.plot(tda_loss, label='TDA')\n",
    "plt.plot(relu_loss, label='ReLU')\n",
    "plt.plot(lrelu_loss, label='LeakyReLU')\n",
    "plt.legend()\n",
    "plt.show()"
   ]
  }
 ],
 "metadata": {
  "kernelspec": {
   "display_name": "Python 3 (ipykernel)",
   "language": "python",
   "name": "python3"
  },
  "language_info": {
   "codemirror_mode": {
    "name": "ipython",
    "version": 3
   },
   "file_extension": ".py",
   "mimetype": "text/x-python",
   "name": "python",
   "nbconvert_exporter": "python",
   "pygments_lexer": "ipython3",
   "version": "3.9.16"
  }
 },
 "nbformat": 4,
 "nbformat_minor": 4
}
